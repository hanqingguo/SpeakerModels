{
 "cells": [
  {
   "cell_type": "code",
   "execution_count": 1,
   "metadata": {},
   "outputs": [],
   "source": [
    "import numpy as np"
   ]
  },
  {
   "cell_type": "code",
   "execution_count": 3,
   "metadata": {},
   "outputs": [
    {
     "data": {
      "text/plain": [
       "array({'/home/hanqing/1ASpeakerRecognition/16kHzUltradata/14/bad/11cut.wav': array([ 2.5480927e-04, -3.8767580e-03, -6.0841918e-05, ...,\n",
       "        6.5687736e-03,  7.0051092e-04,  4.7959657e-05], dtype=float32), '/home/hanqing/1ASpeakerRecognition/16kHzUltradata/14/bad/21cut.wav': array([ 1.75236215e-04, -3.58073763e-03, -1.01901394e-04, ...,\n",
       "        2.94496175e-02, -4.52890201e-03, -7.42394332e-05], dtype=float32), '/home/hanqing/1ASpeakerRecognition/16kHzUltradata/14/bad/14cut.wav': array([ 0.00026363, -0.0046466 , -0.0001026 , ...,  0.02340977,\n",
       "       -0.00297121, -0.00023441], dtype=float32), '/home/hanqing/1ASpeakerRecognition/16kHzUltradata/16/bad/22cut.wav': array([ 4.2174084e-04,  2.2890102e-02, -1.0161706e-05, ...,\n",
       "        2.9194003e-02, -1.7074841e-03,  6.0035457e-04], dtype=float32), '/home/hanqing/1ASpeakerRecognition/16kHzUltradata/16/bad/13cut.wav': array([ 2.2946470e-04,  1.4204568e-02, -9.3159848e-05, ...,\n",
       "        2.8074848e-02,  9.1070787e-04,  3.6398106e-04], dtype=float32), '/home/hanqing/1ASpeakerRecognition/16kHzUltradata/16/bad/25cut.wav': array([ 3.7865329e-04,  2.0439619e-02, -1.2669695e-05, ...,\n",
       "        3.9950345e-02, -2.4521835e-03,  5.4839579e-04], dtype=float32), '/home/hanqing/1ASpeakerRecognition/16kHzUltradata/13/bad/21cut.wav': array([ 9.1158145e-04,  7.0653292e-03,  3.3729979e-05, ...,\n",
       "       -3.0476923e-04, -4.3398570e-03,  1.8787736e-03], dtype=float32), '/home/hanqing/1ASpeakerRecognition/16kHzUltradata/13/bad/17cut.wav': array([ 0.0013676 ,  0.03232601,  0.00058777, ...,  0.01072711,\n",
       "       -0.00074775,  0.00326991], dtype=float32), '/home/hanqing/1ASpeakerRecognition/16kHzUltradata/13/bad/25cut.wav': array([ 0.00097631,  0.00747363,  0.00034207, ..., -0.00331675,\n",
       "       -0.0055932 ,  0.00245629], dtype=float32), '/home/hanqing/1ASpeakerRecognition/16kHzUltradata/15/bad/18cut.wav': array([ 7.9343567e-04,  2.0628553e-03, -3.5651781e-05, ...,\n",
       "        5.8413590e-03, -2.3835329e-03,  1.0457743e-03], dtype=float32), '/home/hanqing/1ASpeakerRecognition/16kHzUltradata/15/bad/23cut.wav': array([ 3.4559911e-04,  7.9203674e-05, -7.2574825e-05, ...,\n",
       "        3.5642697e-03, -1.1529797e-03,  1.8477457e-03], dtype=float32), '/home/hanqing/1ASpeakerRecognition/16kHzUltradata/15/bad/1cut.wav': array([ 5.1379838e-04, -1.5508952e-03,  6.8358881e-05, ...,\n",
       "       -2.2415381e-03, -4.0981444e-03,  1.7793226e-03], dtype=float32)},\n",
       "      dtype=object)"
      ]
     },
     "execution_count": 3,
     "metadata": {},
     "output_type": "execute_result"
    }
   ],
   "source": [
    "np.load(\"d_vect_lowbad.npy\", allow_pickle=True)"
   ]
  },
  {
   "cell_type": "code",
   "execution_count": 4,
   "metadata": {},
   "outputs": [],
   "source": [
    "speaker_embeddings = np.load(\"d_vect_lowbad.npy\", allow_pickle=True)"
   ]
  },
  {
   "cell_type": "code",
   "execution_count": 36,
   "metadata": {},
   "outputs": [
    {
     "name": "stdout",
     "output_type": "stream",
     "text": [
      "/home/hanqing/1ASpeakerRecognition/16kHzUltradata/14/bad/11cut.wav [ 2.5480927e-04 -3.8767580e-03 -6.0841918e-05 ...  6.5687736e-03\n",
      "  7.0051092e-04  4.7959657e-05]\n",
      "/home/hanqing/1ASpeakerRecognition/16kHzUltradata/14/bad/21cut.wav [ 1.75236215e-04 -3.58073763e-03 -1.01901394e-04 ...  2.94496175e-02\n",
      " -4.52890201e-03 -7.42394332e-05]\n",
      "/home/hanqing/1ASpeakerRecognition/16kHzUltradata/14/bad/14cut.wav [ 0.00026363 -0.0046466  -0.0001026  ...  0.02340977 -0.00297121\n",
      " -0.00023441]\n",
      "/home/hanqing/1ASpeakerRecognition/16kHzUltradata/16/bad/22cut.wav [ 4.2174084e-04  2.2890102e-02 -1.0161706e-05 ...  2.9194003e-02\n",
      " -1.7074841e-03  6.0035457e-04]\n",
      "/home/hanqing/1ASpeakerRecognition/16kHzUltradata/16/bad/13cut.wav [ 2.2946470e-04  1.4204568e-02 -9.3159848e-05 ...  2.8074848e-02\n",
      "  9.1070787e-04  3.6398106e-04]\n",
      "/home/hanqing/1ASpeakerRecognition/16kHzUltradata/16/bad/25cut.wav [ 3.7865329e-04  2.0439619e-02 -1.2669695e-05 ...  3.9950345e-02\n",
      " -2.4521835e-03  5.4839579e-04]\n",
      "/home/hanqing/1ASpeakerRecognition/16kHzUltradata/13/bad/21cut.wav [ 9.1158145e-04  7.0653292e-03  3.3729979e-05 ... -3.0476923e-04\n",
      " -4.3398570e-03  1.8787736e-03]\n",
      "/home/hanqing/1ASpeakerRecognition/16kHzUltradata/13/bad/17cut.wav [ 0.0013676   0.03232601  0.00058777 ...  0.01072711 -0.00074775\n",
      "  0.00326991]\n",
      "/home/hanqing/1ASpeakerRecognition/16kHzUltradata/13/bad/25cut.wav [ 0.00097631  0.00747363  0.00034207 ... -0.00331675 -0.0055932\n",
      "  0.00245629]\n",
      "/home/hanqing/1ASpeakerRecognition/16kHzUltradata/15/bad/18cut.wav [ 7.9343567e-04  2.0628553e-03 -3.5651781e-05 ...  5.8413590e-03\n",
      " -2.3835329e-03  1.0457743e-03]\n",
      "/home/hanqing/1ASpeakerRecognition/16kHzUltradata/15/bad/23cut.wav [ 3.4559911e-04  7.9203674e-05 -7.2574825e-05 ...  3.5642697e-03\n",
      " -1.1529797e-03  1.8477457e-03]\n",
      "/home/hanqing/1ASpeakerRecognition/16kHzUltradata/15/bad/1cut.wav [ 5.1379838e-04 -1.5508952e-03  6.8358881e-05 ... -2.2415381e-03\n",
      " -4.0981444e-03  1.7793226e-03]\n"
     ]
    }
   ],
   "source": [
    "for k, v in speaker_embeddings.item().items():\n",
    "    print (k,v)"
   ]
  },
  {
   "cell_type": "code",
   "execution_count": 6,
   "metadata": {},
   "outputs": [
    {
     "data": {
      "text/plain": [
       "array([ 2.5480927e-04, -3.8767580e-03, -6.0841918e-05, ...,\n",
       "        6.5687736e-03,  7.0051092e-04,  4.7959657e-05], dtype=float32)"
      ]
     },
     "execution_count": 6,
     "metadata": {},
     "output_type": "execute_result"
    }
   ],
   "source": [
    "speaker_embeddings.item()['/home/hanqing/1ASpeakerRecognition/16kHzUltradata/14/bad/11cut.wav']"
   ]
  },
  {
   "cell_type": "code",
   "execution_count": 37,
   "metadata": {},
   "outputs": [
    {
     "data": {
      "text/plain": [
       "12"
      ]
     },
     "execution_count": 37,
     "metadata": {},
     "output_type": "execute_result"
    }
   ],
   "source": [
    "len(speaker_embeddings.item())"
   ]
  },
  {
   "cell_type": "code",
   "execution_count": 14,
   "metadata": {},
   "outputs": [],
   "source": [
    "speaker14_1 = speaker_embeddings.item()['/home/hanqing/1ASpeakerRecognition/16kHzUltradata/14/bad/11cut.wav']"
   ]
  },
  {
   "cell_type": "code",
   "execution_count": 15,
   "metadata": {},
   "outputs": [],
   "source": [
    "speaker14_2 = speaker_embeddings.item()['/home/hanqing/1ASpeakerRecognition/16kHzUltradata/14/bad/21cut.wav']"
   ]
  },
  {
   "cell_type": "code",
   "execution_count": 16,
   "metadata": {},
   "outputs": [],
   "source": [
    "speaker16_1 = speaker_embeddings.item()['/home/hanqing/1ASpeakerRecognition/16kHzUltradata/16/bad/22cut.wav']"
   ]
  },
  {
   "cell_type": "code",
   "execution_count": 17,
   "metadata": {},
   "outputs": [],
   "source": [
    "speaker16_2 = speaker_embeddings.item()['/home/hanqing/1ASpeakerRecognition/16kHzUltradata/16/bad/13cut.wav']"
   ]
  },
  {
   "cell_type": "code",
   "execution_count": 24,
   "metadata": {},
   "outputs": [],
   "source": [
    "speaker14_1 = speaker14_1.reshape(1,-1)"
   ]
  },
  {
   "cell_type": "code",
   "execution_count": 25,
   "metadata": {},
   "outputs": [],
   "source": [
    "speaker14_2 = speaker14_2.reshape(1,-1)"
   ]
  },
  {
   "cell_type": "code",
   "execution_count": 28,
   "metadata": {},
   "outputs": [],
   "source": [
    "speaker16_1 = speaker16_1.reshape(1,-1)"
   ]
  },
  {
   "cell_type": "code",
   "execution_count": 29,
   "metadata": {},
   "outputs": [],
   "source": [
    "speaker16_2 = speaker16_2.reshape(1,-1)"
   ]
  },
  {
   "cell_type": "code",
   "execution_count": 8,
   "metadata": {},
   "outputs": [
    {
     "data": {
      "text/plain": [
       "2048"
      ]
     },
     "execution_count": 8,
     "metadata": {},
     "output_type": "execute_result"
    }
   ],
   "source": [
    "len(speaker14)"
   ]
  },
  {
   "cell_type": "code",
   "execution_count": 10,
   "metadata": {},
   "outputs": [],
   "source": [
    "from sklearn.metrics.pairwise import cosine_similarity"
   ]
  },
  {
   "cell_type": "code",
   "execution_count": 26,
   "metadata": {},
   "outputs": [
    {
     "data": {
      "text/plain": [
       "array([[1.]], dtype=float32)"
      ]
     },
     "execution_count": 26,
     "metadata": {},
     "output_type": "execute_result"
    }
   ],
   "source": [
    "cosine_similarity(speaker14_1, speaker14_1, dense_output=True)"
   ]
  },
  {
   "cell_type": "code",
   "execution_count": 27,
   "metadata": {},
   "outputs": [
    {
     "data": {
      "text/plain": [
       "array([[0.87954473]], dtype=float32)"
      ]
     },
     "execution_count": 27,
     "metadata": {},
     "output_type": "execute_result"
    }
   ],
   "source": [
    "cosine_similarity(speaker14_1, speaker14_2, dense_output=True)"
   ]
  },
  {
   "cell_type": "code",
   "execution_count": 30,
   "metadata": {},
   "outputs": [
    {
     "data": {
      "text/plain": [
       "array([[0.7875314]], dtype=float32)"
      ]
     },
     "execution_count": 30,
     "metadata": {},
     "output_type": "execute_result"
    }
   ],
   "source": [
    "cosine_similarity(speaker14_1, speaker16_2, dense_output=True)"
   ]
  },
  {
   "cell_type": "code",
   "execution_count": 31,
   "metadata": {},
   "outputs": [
    {
     "data": {
      "text/plain": [
       "array([[0.9527666]], dtype=float32)"
      ]
     },
     "execution_count": 31,
     "metadata": {},
     "output_type": "execute_result"
    }
   ],
   "source": [
    "cosine_similarity(speaker16_1, speaker16_2, dense_output=True)"
   ]
  },
  {
   "cell_type": "code",
   "execution_count": 32,
   "metadata": {},
   "outputs": [
    {
     "data": {
      "text/plain": [
       "array([[0.7542808]], dtype=float32)"
      ]
     },
     "execution_count": 32,
     "metadata": {},
     "output_type": "execute_result"
    }
   ],
   "source": [
    "cosine_similarity(speaker14_1, speaker16_1, dense_output=True)"
   ]
  },
  {
   "cell_type": "code",
   "execution_count": 33,
   "metadata": {},
   "outputs": [
    {
     "data": {
      "text/plain": [
       "array([[0.7634639]], dtype=float32)"
      ]
     },
     "execution_count": 33,
     "metadata": {},
     "output_type": "execute_result"
    }
   ],
   "source": [
    "cosine_similarity(speaker14_2, speaker16_1, dense_output=True)"
   ]
  },
  {
   "cell_type": "code",
   "execution_count": 34,
   "metadata": {},
   "outputs": [
    {
     "data": {
      "text/plain": [
       "array([[0.7875314]], dtype=float32)"
      ]
     },
     "execution_count": 34,
     "metadata": {},
     "output_type": "execute_result"
    }
   ],
   "source": [
    "cosine_similarity(speaker14_1, speaker16_2, dense_output=True)"
   ]
  },
  {
   "cell_type": "code",
   "execution_count": null,
   "metadata": {},
   "outputs": [],
   "source": []
  }
 ],
 "metadata": {
  "kernelspec": {
   "display_name": "Python 3",
   "language": "python",
   "name": "python3"
  },
  "language_info": {
   "codemirror_mode": {
    "name": "ipython",
    "version": 3
   },
   "file_extension": ".py",
   "mimetype": "text/x-python",
   "name": "python",
   "nbconvert_exporter": "python",
   "pygments_lexer": "ipython3",
   "version": "3.7.4"
  }
 },
 "nbformat": 4,
 "nbformat_minor": 2
}
